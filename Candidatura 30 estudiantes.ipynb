{
  "nbformat": 4,
  "nbformat_minor": 0,
  "metadata": {
    "colab": {
      "provenance": [],
      "authorship_tag": "ABX9TyOaYz3UJ10UK8aSnXan/V+l",
      "include_colab_link": true
    },
    "kernelspec": {
      "name": "python3",
      "display_name": "Python 3"
    },
    "language_info": {
      "name": "python"
    }
  },
  "cells": [
    {
      "cell_type": "markdown",
      "metadata": {
        "id": "view-in-github",
        "colab_type": "text"
      },
      "source": [
        "<a href=\"https://colab.research.google.com/github/cyber-JuanDa/Estructura-de-datos/blob/main/Candidatura%2030%20estudiantes.ipynb\" target=\"_parent\"><img src=\"https://colab.research.google.com/assets/colab-badge.svg\" alt=\"Open In Colab\"/></a>"
      ]
    },
    {
      "cell_type": "code",
      "execution_count": 1,
      "metadata": {
        "colab": {
          "base_uri": "https://localhost:8080/"
        },
        "id": "h4W1Gw2r1LRb",
        "outputId": "bed592c8-a253-4dd3-8bb0-9d7d0f0e45b8"
      },
      "outputs": [
        {
          "output_type": "stream",
          "name": "stdout",
          "text": [
            "                Selección de representante del consejo superior\n",
            "\n",
            "Número de votos de cada candidato:\n",
            "\n",
            "Candidato 2 : 194 votos\n",
            "Candidato 13 : 193 votos\n",
            "Candidato 19 : 190 votos\n",
            "Candidato 25 : 189 votos\n",
            "Candidato 10 : 188 votos\n",
            "Candidato 1 : 188 votos\n",
            "Candidato 11 : 183 votos\n",
            "Candidato 3 : 174 votos\n",
            "Candidato 21 : 172 votos\n",
            "Candidato 17 : 171 votos\n",
            "Candidato 27 : 169 votos\n",
            "Candidato 9 : 168 votos\n",
            "Candidato 12 : 168 votos\n",
            "Candidato 30 : 166 votos\n",
            "Candidato 14 : 165 votos\n",
            "Candidato 8 : 165 votos\n",
            "Candidato 4 : 163 votos\n",
            "Candidato 26 : 163 votos\n",
            "Candidato 23 : 163 votos\n",
            "Candidato 29 : 162 votos\n",
            "Candidato 6 : 161 votos\n",
            "Candidato 18 : 160 votos\n",
            "Candidato 15 : 159 votos\n",
            "Candidato 5 : 158 votos\n",
            "Candidato 7 : 154 votos\n",
            "Candidato 28 : 153 votos\n",
            "Candidato 16 : 149 votos\n",
            "Candidato 24 : 142 votos\n",
            "Candidato 20 : 141 votos\n",
            "Candidato 22 : 129 votos\n",
            "\n",
            "El candidato con más votos es el Candidato 2 con 194 votos.\n"
          ]
        }
      ],
      "source": [
        "import numpy as np\n",
        "print(\"                Selección de representante del consejo superior\");\n",
        "Candidato = np.arange(1,31);\n",
        "Votos = np.random.randint(1,31, size=5000);\n",
        "Conteo = np.bincount(Votos-1, minlength=30);\n",
        "Orden = np.argsort(Conteo)[::-1];\n",
        "print(\"\")\n",
        "print(\"Número de votos de cada candidato:\")\n",
        "print(\"\")\n",
        "for i in Orden:\n",
        "  print(f\"Candidato {i+1} : {Conteo[i]} votos\")\n",
        "\n",
        "candidato_ganador = Orden[0] + 1\n",
        "votos_ganador = Conteo[Orden[0]]\n",
        "\n",
        "print(\"\")\n",
        "print(f\"El candidato con más votos es el Candidato {candidato_ganador} con {votos_ganador} votos.\")"
      ]
    }
  ]
}