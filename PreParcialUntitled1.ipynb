{
  "nbformat": 4,
  "nbformat_minor": 0,
  "metadata": {
    "colab": {
      "provenance": [],
      "authorship_tag": "ABX9TyMEoH6mcRiZqq8vvjFfqDNn",
      "include_colab_link": true
    },
    "kernelspec": {
      "name": "python3",
      "display_name": "Python 3"
    },
    "language_info": {
      "name": "python"
    }
  },
  "cells": [
    {
      "cell_type": "markdown",
      "metadata": {
        "id": "view-in-github",
        "colab_type": "text"
      },
      "source": [
        "<a href=\"https://colab.research.google.com/github/cyber-JuanDa/Estructura-de-datos/blob/main/PreParcialUntitled1.ipynb\" target=\"_parent\"><img src=\"https://colab.research.google.com/assets/colab-badge.svg\" alt=\"Open In Colab\"/></a>"
      ]
    },
    {
      "cell_type": "code",
      "execution_count": 1,
      "metadata": {
        "colab": {
          "base_uri": "https://localhost:8080/"
        },
        "id": "oTEZk59ddpWC",
        "outputId": "a4b392e5-b065-410b-cb93-d6d8502666bd"
      },
      "outputs": [
        {
          "output_type": "stream",
          "name": "stdout",
          "text": [
            "Ingrese el último dígito de su código: 8\n",
            "Ingrese 11 números:\n",
            "Número 1: 3\n",
            "Número 2: 4\n",
            "Número 3: 5\n",
            "Número 4: 8\n",
            "Número 5: 7\n",
            "Número 6: 6\n",
            "Número 7: 9\n",
            "Número 8: 3\n",
            "Número 9: 5\n",
            "Número 10: 8\n",
            "Número 11: 5\n",
            "\n",
            "Promedio entero calculado: 5\n",
            "\n",
            "Secuencia de Collatz:\n",
            "5 → 16 → 8 → 4 → 2 → 1\n"
          ]
        }
      ],
      "source": [
        "# Paso 1: Ingresar el último dígito del código\n",
        "ultimo_digito = int(input(\"Ingrese el último dígito de su código: \"))\n",
        "\n",
        "# Paso 2: Calcular N\n",
        "N = ultimo_digito + 3\n",
        "\n",
        "# Paso 3: Ingresar N números\n",
        "numeros = []\n",
        "print(f\"Ingrese {N} números:\")\n",
        "for i in range(N):\n",
        "    num = int(input(f\"Número {i + 1}: \"))\n",
        "    numeros.append(num)\n",
        "\n",
        "# Paso 4: Calcular promedio entero\n",
        "promedio = sum(numeros) // N\n",
        "print(f\"\\nPromedio entero calculado: {promedio}\")\n",
        "\n",
        "# Paso 5: Generar secuencia de Collatz\n",
        "def collatz_secuencia(n):\n",
        "    secuencia = [n]\n",
        "    while n != 1:\n",
        "        if n % 2 == 0:\n",
        "            n = n // 2\n",
        "        else:\n",
        "            n = 3 * n + 1\n",
        "        secuencia.append(n)\n",
        "    return secuencia\n",
        "\n",
        "# Paso 6: Mostrar la secuencia\n",
        "secuencia = collatz_secuencia(promedio)\n",
        "print(\"\\nSecuencia de Collatz:\")\n",
        "print(\" → \".join(map(str, secuencia)))\n"
      ]
    }
  ]
}