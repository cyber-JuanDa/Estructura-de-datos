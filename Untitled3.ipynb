{
  "nbformat": 4,
  "nbformat_minor": 0,
  "metadata": {
    "colab": {
      "provenance": [],
      "authorship_tag": "ABX9TyOH1yLvmRiCG7/8HtCOAe3G",
      "include_colab_link": true
    },
    "kernelspec": {
      "name": "python3",
      "display_name": "Python 3"
    },
    "language_info": {
      "name": "python"
    }
  },
  "cells": [
    {
      "cell_type": "markdown",
      "metadata": {
        "id": "view-in-github",
        "colab_type": "text"
      },
      "source": [
        "<a href=\"https://colab.research.google.com/github/cyber-JuanDa/Estructura-de-datos/blob/main/Untitled3.ipynb\" target=\"_parent\"><img src=\"https://colab.research.google.com/assets/colab-badge.svg\" alt=\"Open In Colab\"/></a>"
      ]
    },
    {
      "cell_type": "code",
      "execution_count": null,
      "metadata": {
        "id": "dG7ntb97Ky0j"
      },
      "outputs": [],
      "source": [
        "print(\"Suceción de Padovan\")\n",
        "\n",
        "while True:\n",
        "    try:\n",
        "      N = int(input(\"Ingrese la cantidad de números que desea calcular (Escriba un número mayor a 10): \"))\n",
        "      if N > 10:\n",
        "       break\n",
        "      else:\n",
        "        print(\"Por favor, ingrese un número mayor a 10.\")\n",
        "    except ValueError:\n",
        "        print(\"Por favor, ingrese un número válido.\")\n",
        "\n",
        "P = [1, 1, 1]\n",
        "\n",
        "for i in range(3, N):\n",
        "    P.append(P[i - 2] + P[i - 3])\n",
        "\n",
        "print(\"Sucesión de Padovan con\", N, \"términos:\")\n",
        "for i in range(N):\n",
        "    print(f\"P({i}) = {P[i]}\")"
      ]
    }
  ]
}